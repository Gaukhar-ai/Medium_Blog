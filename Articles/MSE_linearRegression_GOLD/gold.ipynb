{
 "cells": [
  {
   "cell_type": "markdown",
   "metadata": {},
   "source": [
    "# Trading Gold with SciKit-Learn"
   ]
  },
  {
   "cell_type": "code",
   "execution_count": 1,
   "metadata": {},
   "outputs": [],
   "source": [
    "# Imports "
   ]
  },
  {
   "cell_type": "code",
   "execution_count": 1,
   "metadata": {},
   "outputs": [],
   "source": [
    "import pandas as pd\n",
    "import numpy as np\n",
    "%matplotlib inline\n",
    "import warnings\n",
    "warnings.filterwarnings('ignore')"
   ]
  },
  {
   "cell_type": "code",
   "execution_count": 2,
   "metadata": {},
   "outputs": [],
   "source": [
    "from sklearn.linear_model import LinearRegression\n",
    "from sklearn.metrics import mean_squared_error, r2_score"
   ]
  },
  {
   "cell_type": "code",
   "execution_count": 3,
   "metadata": {},
   "outputs": [
    {
     "data": {
      "text/html": [
       "<div>\n",
       "<style scoped>\n",
       "    .dataframe tbody tr th:only-of-type {\n",
       "        vertical-align: middle;\n",
       "    }\n",
       "\n",
       "    .dataframe tbody tr th {\n",
       "        vertical-align: top;\n",
       "    }\n",
       "\n",
       "    .dataframe thead th {\n",
       "        text-align: right;\n",
       "    }\n",
       "</style>\n",
       "<table border=\"1\" class=\"dataframe\">\n",
       "  <thead>\n",
       "    <tr style=\"text-align: right;\">\n",
       "      <th></th>\n",
       "      <th>USD (AM)</th>\n",
       "      <th>USD (PM)</th>\n",
       "      <th>GBP (AM)</th>\n",
       "      <th>GBP (PM)</th>\n",
       "      <th>EURO (AM)</th>\n",
       "      <th>EURO (PM)</th>\n",
       "    </tr>\n",
       "    <tr>\n",
       "      <th>Date</th>\n",
       "      <th></th>\n",
       "      <th></th>\n",
       "      <th></th>\n",
       "      <th></th>\n",
       "      <th></th>\n",
       "      <th></th>\n",
       "    </tr>\n",
       "  </thead>\n",
       "  <tbody>\n",
       "    <tr>\n",
       "      <th>2001-01-02</th>\n",
       "      <td>272.80</td>\n",
       "      <td>271.10</td>\n",
       "      <td>183.026</td>\n",
       "      <td>181.617</td>\n",
       "      <td>288.677</td>\n",
       "      <td>287.334</td>\n",
       "    </tr>\n",
       "    <tr>\n",
       "      <th>2001-01-03</th>\n",
       "      <td>269.00</td>\n",
       "      <td>267.15</td>\n",
       "      <td>178.916</td>\n",
       "      <td>177.390</td>\n",
       "      <td>281.823</td>\n",
       "      <td>281.655</td>\n",
       "    </tr>\n",
       "    <tr>\n",
       "      <th>2001-01-04</th>\n",
       "      <td>268.75</td>\n",
       "      <td>267.10</td>\n",
       "      <td>178.869</td>\n",
       "      <td>178.352</td>\n",
       "      <td>282.538</td>\n",
       "      <td>282.049</td>\n",
       "    </tr>\n",
       "    <tr>\n",
       "      <th>2001-01-05</th>\n",
       "      <td>268.00</td>\n",
       "      <td>267.40</td>\n",
       "      <td>178.488</td>\n",
       "      <td>178.148</td>\n",
       "      <td>280.775</td>\n",
       "      <td>280.882</td>\n",
       "    </tr>\n",
       "    <tr>\n",
       "      <th>2001-01-08</th>\n",
       "      <td>268.60</td>\n",
       "      <td>268.30</td>\n",
       "      <td>178.769</td>\n",
       "      <td>178.664</td>\n",
       "      <td>282.410</td>\n",
       "      <td>282.481</td>\n",
       "    </tr>\n",
       "  </tbody>\n",
       "</table>\n",
       "</div>"
      ],
      "text/plain": [
       "            USD (AM)  USD (PM)  GBP (AM)  GBP (PM)  EURO (AM)  EURO (PM)\n",
       "Date                                                                    \n",
       "2001-01-02    272.80    271.10   183.026   181.617    288.677    287.334\n",
       "2001-01-03    269.00    267.15   178.916   177.390    281.823    281.655\n",
       "2001-01-04    268.75    267.10   178.869   178.352    282.538    282.049\n",
       "2001-01-05    268.00    267.40   178.488   178.148    280.775    280.882\n",
       "2001-01-08    268.60    268.30   178.769   178.664    282.410    282.481"
      ]
     },
     "execution_count": 3,
     "metadata": {},
     "output_type": "execute_result"
    }
   ],
   "source": [
    "from pathlib import Path\n",
    "csvpath = Path('../MSE_linearRegression_GOLD/gold_price.csv')\n",
    "df = pd.read_csv(csvpath, parse_dates=True, index_col='Date')\n",
    "df.head()"
   ]
  },
  {
   "cell_type": "code",
   "execution_count": 4,
   "metadata": {},
   "outputs": [
    {
     "data": {
      "text/html": [
       "<div>\n",
       "<style scoped>\n",
       "    .dataframe tbody tr th:only-of-type {\n",
       "        vertical-align: middle;\n",
       "    }\n",
       "\n",
       "    .dataframe tbody tr th {\n",
       "        vertical-align: top;\n",
       "    }\n",
       "\n",
       "    .dataframe thead th {\n",
       "        text-align: right;\n",
       "    }\n",
       "</style>\n",
       "<table border=\"1\" class=\"dataframe\">\n",
       "  <thead>\n",
       "    <tr style=\"text-align: right;\">\n",
       "      <th></th>\n",
       "      <th>USD (AM)</th>\n",
       "      <th>USD (PM)</th>\n",
       "      <th>GBP (AM)</th>\n",
       "      <th>GBP (PM)</th>\n",
       "      <th>EURO (AM)</th>\n",
       "      <th>EURO (PM)</th>\n",
       "      <th>Return</th>\n",
       "      <th>Lagged_Return</th>\n",
       "    </tr>\n",
       "    <tr>\n",
       "      <th>Date</th>\n",
       "      <th></th>\n",
       "      <th></th>\n",
       "      <th></th>\n",
       "      <th></th>\n",
       "      <th></th>\n",
       "      <th></th>\n",
       "      <th></th>\n",
       "      <th></th>\n",
       "    </tr>\n",
       "  </thead>\n",
       "  <tbody>\n",
       "    <tr>\n",
       "      <th>2001-01-04</th>\n",
       "      <td>268.75</td>\n",
       "      <td>267.1</td>\n",
       "      <td>178.869</td>\n",
       "      <td>178.352</td>\n",
       "      <td>282.538</td>\n",
       "      <td>282.049</td>\n",
       "      <td>-0.018716</td>\n",
       "      <td>-1.457027</td>\n",
       "    </tr>\n",
       "    <tr>\n",
       "      <th>2001-01-05</th>\n",
       "      <td>268.00</td>\n",
       "      <td>267.4</td>\n",
       "      <td>178.488</td>\n",
       "      <td>178.148</td>\n",
       "      <td>280.775</td>\n",
       "      <td>280.882</td>\n",
       "      <td>0.112317</td>\n",
       "      <td>-0.018716</td>\n",
       "    </tr>\n",
       "    <tr>\n",
       "      <th>2001-01-08</th>\n",
       "      <td>268.60</td>\n",
       "      <td>268.3</td>\n",
       "      <td>178.769</td>\n",
       "      <td>178.664</td>\n",
       "      <td>282.410</td>\n",
       "      <td>282.481</td>\n",
       "      <td>0.336574</td>\n",
       "      <td>0.112317</td>\n",
       "    </tr>\n",
       "    <tr>\n",
       "      <th>2001-01-09</th>\n",
       "      <td>267.75</td>\n",
       "      <td>267.0</td>\n",
       "      <td>179.855</td>\n",
       "      <td>179.195</td>\n",
       "      <td>284.507</td>\n",
       "      <td>283.590</td>\n",
       "      <td>-0.484532</td>\n",
       "      <td>0.336574</td>\n",
       "    </tr>\n",
       "    <tr>\n",
       "      <th>2001-01-10</th>\n",
       "      <td>266.70</td>\n",
       "      <td>266.3</td>\n",
       "      <td>178.777</td>\n",
       "      <td>178.665</td>\n",
       "      <td>283.573</td>\n",
       "      <td>283.298</td>\n",
       "      <td>-0.262172</td>\n",
       "      <td>-0.484532</td>\n",
       "    </tr>\n",
       "  </tbody>\n",
       "</table>\n",
       "</div>"
      ],
      "text/plain": [
       "            USD (AM)  USD (PM)  GBP (AM)  GBP (PM)  EURO (AM)  EURO (PM)  \\\n",
       "Date                                                                       \n",
       "2001-01-04    268.75     267.1   178.869   178.352    282.538    282.049   \n",
       "2001-01-05    268.00     267.4   178.488   178.148    280.775    280.882   \n",
       "2001-01-08    268.60     268.3   178.769   178.664    282.410    282.481   \n",
       "2001-01-09    267.75     267.0   179.855   179.195    284.507    283.590   \n",
       "2001-01-10    266.70     266.3   178.777   178.665    283.573    283.298   \n",
       "\n",
       "              Return  Lagged_Return  \n",
       "Date                                 \n",
       "2001-01-04 -0.018716      -1.457027  \n",
       "2001-01-05  0.112317      -0.018716  \n",
       "2001-01-08  0.336574       0.112317  \n",
       "2001-01-09 -0.484532       0.336574  \n",
       "2001-01-10 -0.262172      -0.484532  "
      ]
     },
     "execution_count": 4,
     "metadata": {},
     "output_type": "execute_result"
    }
   ],
   "source": [
    "df['Return'] = df['USD (PM)'].pct_change() * 100\n",
    "df['Lagged_Return'] = df.Return.shift()\n",
    "df = df.dropna()\n",
    "df.head()"
   ]
  },
  {
   "cell_type": "code",
   "execution_count": null,
   "metadata": {},
   "outputs": [],
   "source": [
    "# PLOT - GOLD PRICES IN USD"
   ]
  },
  {
   "cell_type": "code",
   "execution_count": 5,
   "metadata": {},
   "outputs": [
    {
     "data": {
      "text/plain": [
       "<matplotlib.axes._subplots.AxesSubplot at 0x7f86af48ce10>"
      ]
     },
     "execution_count": 5,
     "metadata": {},
     "output_type": "execute_result"
    },
    {
     "data": {
      "image/png": "[encoded data removed]",
      "text/plain": [
       "<Figure size 432x288 with 1 Axes>"
      ]
     },
     "metadata": {
      "needs_background": "light"
     },
     "output_type": "display_data"
    }
   ],
   "source": [
    "df['USD (PM)'].plot()"
   ]
  },
  {
   "cell_type": "markdown",
   "metadata": {},
   "source": [
    "# Train Test Split Predictions\n",
    "\n",
    "Training Period: 2001-2018\n",
    "Testing Period: 2019"
   ]
  },
  {
   "cell_type": "code",
   "execution_count": 6,
   "metadata": {},
   "outputs": [],
   "source": [
    "# Create a train/test split for the data using 2001-2018 for training and 2019 for testing\n",
    "train = df['2001':'2018']\n",
    "test = df['2019']"
   ]
  },
  {
   "cell_type": "code",
   "execution_count": 7,
   "metadata": {},
   "outputs": [],
   "source": [
    "# Create train and test sets for dependent and independent variables\n",
    "X_train = train[\"Lagged_Return\"].to_frame()\n",
    "y_train = train[\"Return\"]\n",
    "X_test = test[\"Lagged_Return\"].to_frame()\n",
    "y_test = test[\"Return\"]"
   ]
  },
  {
   "cell_type": "code",
   "execution_count": 8,
   "metadata": {},
   "outputs": [],
   "source": [
    "# Create and fit model to the data, make predictions\n",
    "model = LinearRegression()\n",
    "model.fit(X_train, y_train)\n",
    "predictions = model.predict(X_test)"
   ]
  },
  {
   "cell_type": "code",
   "execution_count": 9,
   "metadata": {},
   "outputs": [],
   "source": [
    "# Construct a dataframe using just the \"y\" training data:\n",
    "out_of_sample_results = y_test.to_frame()\n",
    "\n",
    "# Add a column of \"out-of-sample\" predictions to that dataframe:  \n",
    "out_of_sample_results[\"Out-of-Sample Predictions\"] = model.predict(X_test)"
   ]
  },
  {
   "cell_type": "code",
   "execution_count": 11,
   "metadata": {},
   "outputs": [
    {
     "data": {
      "text/plain": [
       "array([<matplotlib.axes._subplots.AxesSubplot object at 0x7f86af675a90>,\n",
       "       <matplotlib.axes._subplots.AxesSubplot object at 0x7f86af674748>],\n",
       "      dtype=object)"
      ]
     },
     "execution_count": 11,
     "metadata": {},
     "output_type": "execute_result"
    },
    {
     "data": {
      "image/png": "[encoded data removed]",
      "text/plain": [
       "<Figure size 432x288 with 2 Axes>"
      ]
     },
     "metadata": {
      "needs_background": "light"
     },
     "output_type": "display_data"
    }
   ],
   "source": [
    "# Plot the out-of-sample results for 2019\n",
    "out_of_sample_results.plot(subplots=True, title='Gold prices, USD')"
   ]
  },
  {
   "cell_type": "code",
   "execution_count": 12,
   "metadata": {},
   "outputs": [
    {
     "name": "stdout",
     "output_type": "stream",
     "text": [
      "Out-of-sample Root Mean Squared Error (RMSE): 0.7386178760826811\n"
     ]
    }
   ],
   "source": [
    "# Calculate out-of-sample mean_squared_error (for comparison to out-of-sample)\n",
    "out_of_sample_mse = mean_squared_error(\n",
    "    out_of_sample_results[\"Return\"],\n",
    "    out_of_sample_results[\"Out-of-Sample Predictions\"]\n",
    ")\n",
    "\n",
    "# Calculate out-of-sample root mean_squared_error (for comparison to out-of-sample)\n",
    "out_of_sample_rmse = np.sqrt(out_of_sample_mse)\n",
    "print(f\"Out-of-sample Root Mean Squared Error (RMSE): {out_of_sample_rmse}\")"
   ]
  },
  {
   "cell_type": "markdown",
   "metadata": {},
   "source": [
    "---"
   ]
  },
  {
   "cell_type": "markdown",
   "metadata": {},
   "source": [
    "# Rolling Out-of-Sample Predictions"
   ]
  },
  {
   "cell_type": "code",
   "execution_count": 13,
   "metadata": {},
   "outputs": [
    {
     "name": "stdout",
     "output_type": "stream",
     "text": [
      "2001-01-01/2001-01-07\n"
     ]
    }
   ],
   "source": [
    "# Split the index into weekly periods\n",
    "weeks = df.index.to_period(\"w\").unique()\n",
    "print(weeks[0])"
   ]
  },
  {
   "cell_type": "code",
   "execution_count": 14,
   "metadata": {},
   "outputs": [
    {
     "name": "stdout",
     "output_type": "stream",
     "text": [
      "962\n"
     ]
    }
   ],
   "source": [
    "# Declare the training window of 12 weeks\n",
    "# Define the timeframe of rolling windows\n",
    "training_window = 12\n",
    "timeframe = len(weeks) - training_window - 1\n",
    "print(timeframe)"
   ]
  },
  {
   "cell_type": "code",
   "execution_count": 15,
   "metadata": {},
   "outputs": [],
   "source": [
    "# Construct empty placeholder dataframes.\n",
    "# (During each iteration of the loop, we'll append that week\"s predictions to this DataFrame)\n",
    "all_predictions = pd.DataFrame(columns=[\"Out-of-Sample Predictions\"])\n",
    "all_actuals = pd.DataFrame(columns=[\"Actual Returns\"])"
   ]
  },
  {
   "cell_type": "code",
   "execution_count": 16,
   "metadata": {},
   "outputs": [],
   "source": [
    "# During rolling iteration, split into train and test sets.\n",
    "# Use linear regression to make out-of-sample predictions.\n",
    "# Append the results to external dataframes.\n",
    "for i in range(0, timeframe):\n",
    "    \n",
    "    # Beginning of training window\n",
    "    start_of_training_period = weeks[i].start_time.strftime(format=\"%Y-%m-%d\")\n",
    "    \n",
    "    # End of training window\n",
    "    end_of_training_period = weeks[training_window+i].end_time.strftime(format=\"%Y-%m-%d\")\n",
    "\n",
    "    # Window of test-window data\n",
    "    test_week = weeks[training_window + i + 1]\n",
    "    \n",
    "    # String of testing window\n",
    "    start_of_test_week  = test_week.start_time.strftime(format=\"%Y-%m-%d\")\n",
    "    end_of_test_week = test_week.end_time.strftime(format=\"%Y-%m-%d\")\n",
    "    \n",
    "    train = df.loc[start_of_training_period:end_of_training_period]\n",
    "    test = df.loc[start_of_test_week:end_of_test_week]\n",
    "    \n",
    "    # Create new dataframes:\n",
    "    X_train = train[\"Lagged_Return\"].to_frame()\n",
    "    y_train = train[\"Return\"]\n",
    "    X_test = test[\"Lagged_Return\"].to_frame()\n",
    "    y_test = test[\"Return\"]\n",
    "\n",
    "    model = LinearRegression()\n",
    "    model.fit(X_train, y_train)\n",
    "    predictions = model.predict(X_test)\n",
    "    \n",
    "    # Create a temporary dataframe to hold predictions\n",
    "    predictions = pd.DataFrame(predictions, index=X_test.index, columns=[\"Out-of-Sample Predictions\"])\n",
    "    \n",
    "    # Create a temporary DataFrame of the actual \"y\"s in the test dataframe, with column name=\"Actual Returns\": \n",
    "    actuals = pd.DataFrame(y_test, index=y_test.index)\n",
    "    actuals.columns = [\"Actual Returns\"]  \n",
    "    \n",
    "    # Append these two dataframes (predictions and actuals) to the two master DataFrames built outside the loop\n",
    "    all_predictions = all_predictions.append(predictions)\n",
    "    all_actuals = all_actuals.append(actuals)   \n",
    "    "
   ]
  },
  {
   "cell_type": "code",
   "execution_count": 17,
   "metadata": {},
   "outputs": [
    {
     "data": {
      "text/html": [
       "<div>\n",
       "<style scoped>\n",
       "    .dataframe tbody tr th:only-of-type {\n",
       "        vertical-align: middle;\n",
       "    }\n",
       "\n",
       "    .dataframe tbody tr th {\n",
       "        vertical-align: top;\n",
       "    }\n",
       "\n",
       "    .dataframe thead th {\n",
       "        text-align: right;\n",
       "    }\n",
       "</style>\n",
       "<table border=\"1\" class=\"dataframe\">\n",
       "  <thead>\n",
       "    <tr style=\"text-align: right;\">\n",
       "      <th></th>\n",
       "      <th>Actual Returns</th>\n",
       "      <th>Out-of-Sample Predictions</th>\n",
       "    </tr>\n",
       "  </thead>\n",
       "  <tbody>\n",
       "    <tr>\n",
       "      <th>2001-04-02</th>\n",
       "      <td>-0.679084</td>\n",
       "      <td>-0.230810</td>\n",
       "    </tr>\n",
       "    <tr>\n",
       "      <th>2001-04-03</th>\n",
       "      <td>0.449307</td>\n",
       "      <td>-0.178308</td>\n",
       "    </tr>\n",
       "    <tr>\n",
       "      <th>2001-04-04</th>\n",
       "      <td>0.914041</td>\n",
       "      <td>0.047224</td>\n",
       "    </tr>\n",
       "    <tr>\n",
       "      <th>2001-04-05</th>\n",
       "      <td>-0.520331</td>\n",
       "      <td>0.140111</td>\n",
       "    </tr>\n",
       "    <tr>\n",
       "      <th>2001-04-06</th>\n",
       "      <td>0.271213</td>\n",
       "      <td>-0.146578</td>\n",
       "    </tr>\n",
       "  </tbody>\n",
       "</table>\n",
       "</div>"
      ],
      "text/plain": [
       "            Actual Returns  Out-of-Sample Predictions\n",
       "2001-04-02       -0.679084                  -0.230810\n",
       "2001-04-03        0.449307                  -0.178308\n",
       "2001-04-04        0.914041                   0.047224\n",
       "2001-04-05       -0.520331                   0.140111\n",
       "2001-04-06        0.271213                  -0.146578"
      ]
     },
     "execution_count": 17,
     "metadata": {},
     "output_type": "execute_result"
    }
   ],
   "source": [
    "Results = pd.concat([all_actuals, all_predictions], axis=1)\n",
    "Results.head()"
   ]
  },
  {
   "cell_type": "code",
   "execution_count": 18,
   "metadata": {},
   "outputs": [
    {
     "data": {
      "text/html": [
       "<div>\n",
       "<style scoped>\n",
       "    .dataframe tbody tr th:only-of-type {\n",
       "        vertical-align: middle;\n",
       "    }\n",
       "\n",
       "    .dataframe tbody tr th {\n",
       "        vertical-align: top;\n",
       "    }\n",
       "\n",
       "    .dataframe thead th {\n",
       "        text-align: right;\n",
       "    }\n",
       "</style>\n",
       "<table border=\"1\" class=\"dataframe\">\n",
       "  <thead>\n",
       "    <tr style=\"text-align: right;\">\n",
       "      <th></th>\n",
       "      <th>Actual Returns</th>\n",
       "      <th>Out-of-Sample Predictions</th>\n",
       "    </tr>\n",
       "  </thead>\n",
       "  <tbody>\n",
       "    <tr>\n",
       "      <th>2019-01-02</th>\n",
       "      <td>0.304926</td>\n",
       "      <td>0.113681</td>\n",
       "    </tr>\n",
       "    <tr>\n",
       "      <th>2019-01-03</th>\n",
       "      <td>0.588510</td>\n",
       "      <td>0.136012</td>\n",
       "    </tr>\n",
       "    <tr>\n",
       "      <th>2019-01-04</th>\n",
       "      <td>-0.817544</td>\n",
       "      <td>0.156779</td>\n",
       "    </tr>\n",
       "    <tr>\n",
       "      <th>2019-01-07</th>\n",
       "      <td>0.961013</td>\n",
       "      <td>0.029540</td>\n",
       "    </tr>\n",
       "    <tr>\n",
       "      <th>2019-01-08</th>\n",
       "      <td>-0.444978</td>\n",
       "      <td>0.173015</td>\n",
       "    </tr>\n",
       "    <tr>\n",
       "      <th>...</th>\n",
       "      <td>...</td>\n",
       "      <td>...</td>\n",
       "    </tr>\n",
       "    <tr>\n",
       "      <th>2019-08-27</th>\n",
       "      <td>1.938423</td>\n",
       "      <td>0.267097</td>\n",
       "    </tr>\n",
       "    <tr>\n",
       "      <th>2019-08-28</th>\n",
       "      <td>0.273982</td>\n",
       "      <td>0.082971</td>\n",
       "    </tr>\n",
       "    <tr>\n",
       "      <th>2019-08-29</th>\n",
       "      <td>0.198419</td>\n",
       "      <td>0.251182</td>\n",
       "    </tr>\n",
       "    <tr>\n",
       "      <th>2019-08-30</th>\n",
       "      <td>-0.766134</td>\n",
       "      <td>0.258819</td>\n",
       "    </tr>\n",
       "    <tr>\n",
       "      <th>2019-09-02</th>\n",
       "      <td>-0.160298</td>\n",
       "      <td>0.367964</td>\n",
       "    </tr>\n",
       "  </tbody>\n",
       "</table>\n",
       "<p>169 rows × 2 columns</p>\n",
       "</div>"
      ],
      "text/plain": [
       "            Actual Returns  Out-of-Sample Predictions\n",
       "2019-01-02        0.304926                   0.113681\n",
       "2019-01-03        0.588510                   0.136012\n",
       "2019-01-04       -0.817544                   0.156779\n",
       "2019-01-07        0.961013                   0.029540\n",
       "2019-01-08       -0.444978                   0.173015\n",
       "...                    ...                        ...\n",
       "2019-08-27        1.938423                   0.267097\n",
       "2019-08-28        0.273982                   0.082971\n",
       "2019-08-29        0.198419                   0.251182\n",
       "2019-08-30       -0.766134                   0.258819\n",
       "2019-09-02       -0.160298                   0.367964\n",
       "\n",
       "[169 rows x 2 columns]"
      ]
     },
     "execution_count": 18,
     "metadata": {},
     "output_type": "execute_result"
    }
   ],
   "source": [
    "# 2019 Data\n",
    "results_2019 = Results.loc['2019':]\n",
    "results_2019"
   ]
  },
  {
   "cell_type": "code",
   "execution_count": 19,
   "metadata": {},
   "outputs": [
    {
     "data": {
      "text/plain": [
       "array([<matplotlib.axes._subplots.AxesSubplot object at 0x7f86af86e4a8>,\n",
       "       <matplotlib.axes._subplots.AxesSubplot object at 0x7f86af81a2b0>],\n",
       "      dtype=object)"
      ]
     },
     "execution_count": 19,
     "metadata": {},
     "output_type": "execute_result"
    },
    {
     "data": {
      "image/png": "[encoded data removed]",
      "text/plain": [
       "<Figure size 432x288 with 2 Axes>"
      ]
     },
     "metadata": {
      "needs_background": "light"
     },
     "output_type": "display_data"
    }
   ],
   "source": [
    "# Plot the results\n",
    "results_2019.plot(subplots=True, title='Gold Returns and Predictions')"
   ]
  },
  {
   "cell_type": "code",
   "execution_count": 19,
   "metadata": {},
   "outputs": [
    {
     "name": "stdout",
     "output_type": "stream",
     "text": [
      "Rolling Out-of-Sample Root Mean Squared Error (RMSE): 0.7516414806096019\n"
     ]
    }
   ],
   "source": [
    "# Out-of-sample metrics\n",
    "# Calculate the mean_squared_error (MSE) on actual versus predicted test \"y\" \n",
    "# (Hint: use the dataframe above)\n",
    "mse = mean_squared_error(\n",
    "    results_2019[\"Actual Returns\"],\n",
    "    results_2019[\"Out-of-Sample Predictions\"]\n",
    ")\n",
    "\n",
    "# Using that mean-squared-error, calculate the root-mean-squared error (RMSE):\n",
    "rolling_rmse = np.sqrt(mse)\n",
    "print(f\"Rolling Out-of-Sample Root Mean Squared Error (RMSE): {rolling_rmse}\")"
   ]
  },
  {
   "cell_type": "markdown",
   "metadata": {},
   "source": [
    "# Final Model Comparison"
   ]
  },
  {
   "cell_type": "code",
   "execution_count": 20,
   "metadata": {},
   "outputs": [
    {
     "name": "stdout",
     "output_type": "stream",
     "text": [
      "Out-of-sample Root Mean Squared Error (RMSE): 0.7386178760826811\n",
      "Rolling Out-of-Sample Root Mean Squared Error (RMSE): 0.7516414806096019\n"
     ]
    }
   ],
   "source": [
    "print(f\"Out-of-sample Root Mean Squared Error (RMSE): {out_of_sample_rmse}\")\n",
    "print(f\"Rolling Out-of-Sample Root Mean Squared Error (RMSE): {rolling_rmse}\")"
   ]
  },
  {
   "cell_type": "markdown",
   "metadata": {},
   "source": [
    "Comparing the two RMSE's, the RMSE from the single training window is 0.73, whereas it is 0.75 from the rolling-out-of-sample model.\n",
    "* Therefore, we expect a slightly higher out-of-sample RMSE, which is what we see.\n",
    "* The fact that the two are close to each other in value though does suggest that our model is reasonably stable."
   ]
  },
  {
   "cell_type": "code",
   "execution_count": null,
   "metadata": {},
   "outputs": [],
   "source": []
  }
 ],
 "metadata": {
  "kernelspec": {
   "display_name": "Python 3",
   "language": "python",
   "name": "python3"
  },
  "language_info": {
   "codemirror_mode": {
    "name": "ipython",
    "version": 3
   },
   "file_extension": ".py",
   "mimetype": "text/x-python",
   "name": "python",
   "nbconvert_exporter": "python",
   "pygments_lexer": "ipython3",
   "version": "3.6.10"
  }
 },
 "nbformat": 4,
 "nbformat_minor": 4
}
